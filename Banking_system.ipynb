{
  "nbformat": 4,
  "nbformat_minor": 0,
  "metadata": {
    "colab": {
      "provenance": []
    },
    "kernelspec": {
      "name": "python3",
      "display_name": "Python 3"
    },
    "language_info": {
      "name": "python"
    }
  },
  "cells": [
    {
      "cell_type": "code",
      "execution_count": 25,
      "metadata": {
        "id": "O1FY8GNJQrDG"
      },
      "outputs": [],
      "source": [
        "class BankAccount:\n",
        "    def __init__(self, account_number, pin):\n",
        "        self.account_number = account_number\n",
        "        self.pin = pin\n",
        "        self.balance = 0.0\n",
        "\n",
        "    def deposit(self, amount):\n",
        "        self.balance += amount\n",
        "        print(f\"Deposit successful. Your new balance is {self.balance:.2f}\")\n",
        "\n",
        "    def withdraw(self, amount):\n",
        "        if amount <= self.balance:\n",
        "            self.balance -= amount\n",
        "            print(f\"Withdrawal successful. Your new balance is {self.balance:.2f}\")\n",
        "        else:\n",
        "            print(\"!!!Insufficient funds!!!\")\n",
        "\n",
        "    def check_balance(self):\n",
        "        print(f\"Your current balance is {self.balance:.2f}\")\n"
      ]
    },
    {
      "cell_type": "code",
      "source": [
        "def login(accounts):\n",
        "    print(\"Welocme to Bank\")\n",
        "    account_number = input(\"Enter your account number: \")\n",
        "    pin = input(\"Enter your PIN: \")\n",
        "\n",
        "    if account_number in accounts and pin == accounts[account_number].pin:\n",
        "        return accounts[account_number]\n",
        "    else:\n",
        "        print(\"!!!Invalid account number or PIN!!!\")\n",
        "        return None\n"
      ],
      "metadata": {
        "id": "J4tpCRxXQ2V3"
      },
      "execution_count": 26,
      "outputs": []
    },
    {
      "cell_type": "code",
      "source": [
        "\n",
        "def main():\n",
        "    accounts = {\n",
        "        \"123456\": BankAccount(\"123456\", \"123#\"),\n",
        "        \"111222\": BankAccount(\"789012\", \"112#\"),\n",
        "        \"112233\": BankAccount(\"112233\", \"113#\")\n",
        "    }\n",
        "\n",
        "    logged_in_account = login(accounts)\n",
        "    if logged_in_account:\n",
        "        while True:\n",
        "            print(\"\\n1. Deposit\")\n",
        "            print(\"2. Withdraw\")\n",
        "            print(\"3. Check Balance\")\n",
        "            print(\"4. Logout\")\n",
        "            choice = input(\"Enter your choice (1-4): \")\n",
        "\n",
        "            if choice == \"1\":\n",
        "                amount = float(input(\"Enter the amount to deposit: \"))\n",
        "                logged_in_account.deposit(amount)\n",
        "            elif choice == \"2\":\n",
        "                amount = float(input(\"Enter the amount to withdraw: \"))\n",
        "                logged_in_account.withdraw(amount)\n",
        "            elif choice == \"3\":\n",
        "                logged_in_account.check_balance()\n",
        "            elif choice == \"4\":\n",
        "                print(\"Logged out.\")\n",
        "                break\n",
        "            else:\n",
        "                print(\"!!!Invalid choice. Please try again!!!\")\n",
        "\n",
        "\n",
        "main()"
      ],
      "metadata": {
        "colab": {
          "base_uri": "https://localhost:8080/"
        },
        "id": "GkTSCzXRRAZL",
        "outputId": "3e39254c-708e-4887-c3d3-4139a3530610"
      },
      "execution_count": 27,
      "outputs": [
        {
          "output_type": "stream",
          "name": "stdout",
          "text": [
            "Welocme to Bank\n",
            "Enter your account number: 112233\n",
            "Enter your PIN: 113#\n",
            "\n",
            "1. Deposit\n",
            "2. Withdraw\n",
            "3. Check Balance\n",
            "4. Logout\n",
            "Enter your choice (1-4): 1\n",
            "Enter the amount to deposit: 10000\n",
            "Deposit successful. Your new balance is 10000.00\n",
            "\n",
            "1. Deposit\n",
            "2. Withdraw\n",
            "3. Check Balance\n",
            "4. Logout\n",
            "Enter your choice (1-4): 2\n",
            "Enter the amount to withdraw: 5000\n",
            "Withdrawal successful. Your new balance is 5000.00\n",
            "\n",
            "1. Deposit\n",
            "2. Withdraw\n",
            "3. Check Balance\n",
            "4. Logout\n",
            "Enter your choice (1-4): 3\n",
            "Your current balance is 5000.00\n",
            "\n",
            "1. Deposit\n",
            "2. Withdraw\n",
            "3. Check Balance\n",
            "4. Logout\n",
            "Enter your choice (1-4): 2\n",
            "Enter the amount to withdraw: 7000\n",
            "!!!Insufficient funds!!!\n",
            "\n",
            "1. Deposit\n",
            "2. Withdraw\n",
            "3. Check Balance\n",
            "4. Logout\n",
            "Enter your choice (1-4): 4\n",
            "Logged out.\n"
          ]
        }
      ]
    },
    {
      "cell_type": "code",
      "source": [],
      "metadata": {
        "id": "Fy8pHL1zRFNf"
      },
      "execution_count": 27,
      "outputs": []
    }
  ]
}